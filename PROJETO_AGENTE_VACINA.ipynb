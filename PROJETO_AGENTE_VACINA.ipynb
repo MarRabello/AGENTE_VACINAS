{
  "nbformat": 4,
  "nbformat_minor": 0,
  "metadata": {
    "colab": {
      "provenance": []
    },
    "kernelspec": {
      "name": "python3",
      "display_name": "Python 3"
    },
    "language_info": {
      "name": "python"
    }
  },
  "cells": [
    {
      "cell_type": "code",
      "source": [
        "%pip -q install google-genai"
      ],
      "metadata": {
        "id": "UCCbECexLk_h"
      },
      "execution_count": 5,
      "outputs": []
    },
    {
      "cell_type": "code",
      "source": [
        "# Configura a API Key do Google Gemini\n",
        "\n",
        "import os\n",
        "from google.colab import userdata\n",
        "\n",
        "os.environ[\"GOOGLE_API_KEY\"] = userdata.get('GOOGLE_API_KEY')"
      ],
      "metadata": {
        "id": "NfCqHo1tLk8P"
      },
      "execution_count": 6,
      "outputs": []
    },
    {
      "cell_type": "code",
      "source": [
        "# Configura o cliente da SDK do Gemini\n",
        "\n",
        "from google import genai\n",
        "\n",
        "client = genai.Client()\n",
        "\n",
        "MODEL_ID = \"gemini-2.0-flash\""
      ],
      "metadata": {
        "id": "bV4w0H5TLk5g"
      },
      "execution_count": 7,
      "outputs": []
    },
    {
      "cell_type": "code",
      "source": [
        "# Pergunta ao Gemini uma informação mais recente que seu conhecimento\n",
        "\n",
        "from IPython.display import HTML, Markdown\n",
        "\n",
        "# Perguntar pro modelo quando é a próxima imersão de IA ###############################################\n",
        "\n",
        "resposta = client.models.generate_content(\n",
        "    model=MODEL_ID,\n",
        "    contents='Quando é a próxima Imersão IA com Google Gemini da Alura?',\n",
        ")\n",
        "\n",
        "# Exibe a resposta na tela\n",
        "\n",
        "display(Markdown(f\"Resposta:\\n {resposta.text}\"))"
      ],
      "metadata": {
        "id": "HwVP7Xi34Zuw",
        "colab": {
          "base_uri": "https://localhost:8080/",
          "height": 197
        },
        "outputId": "890e9818-7e47-4c64-e279-059858f4172e"
      },
      "execution_count": null,
      "outputs": [
        {
          "output_type": "display_data",
          "data": {
            "text/plain": [
              "<IPython.core.display.Markdown object>"
            ],
            "text/markdown": "Resposta:\n A Alura não tem uma data fixa para a Imersão IA com Google Gemini. A melhor forma de saber quando a próxima edição será realizada é:\n\n*   **Acompanhar as redes sociais e o site da Alura:** A Alura costuma divulgar os lançamentos de seus cursos e imersões em suas redes sociais (como LinkedIn, Instagram, Twitter) e no site oficial.\n*   **Verificar a página da Imersão IA com Google Gemini:** Mesmo que não haja uma data definida, a página do curso no site da Alura ([https://www.alura.com.br/imersao/ia-google-gemini](https://www.alura.com.br/imersao/ia-google-gemini)) pode ter informações sobre a previsão de novas turmas ou um formulário para você se inscrever e receber novidades.\n*   **Entrar em contato com a Alura:** Você pode enviar uma mensagem para a equipe da Alura através do formulário de contato no site ou por meio das redes sociais para perguntar sobre a próxima edição.\n\nEssas são as maneiras mais eficientes de obter informações precisas sobre a próxima Imersão IA com Google Gemini da Alura."
          },
          "metadata": {}
        }
      ]
    },
    {
      "cell_type": "code",
      "source": [
        "# Pergunta ao Gemini uma informação utilizando a busca do Google como contexto\n",
        "\n",
        "response = client.models.generate_content(\n",
        "    model=MODEL_ID,\n",
        "    contents='Quando é a próxima Imersão IA com Google Gemini da Alura?',\n",
        "    config={\"tools\": [{\"google_search\": {}}]}\n",
        "    # Inserir a tool de busca do Google ###############################################\n",
        ")\n",
        "\n",
        "# Exibe a resposta na tela\n",
        "display(Markdown(f\"Resposta:\\n {response.text}\"))"
      ],
      "metadata": {
        "id": "yXaZd7iZ4ftw",
        "colab": {
          "base_uri": "https://localhost:8080/",
          "height": 87
        },
        "outputId": "ad871058-7c7a-45b2-86a9-e06bcee7f774"
      },
      "execution_count": null,
      "outputs": [
        {
          "output_type": "display_data",
          "data": {
            "text/plain": [
              "<IPython.core.display.Markdown object>"
            ],
            "text/markdown": "Resposta:\n As inscrições para a Imersão IA da Alura + Google Gemini estão abertas até o dia 11 de maio de 2025, domingo, às 23h59min.\n\nA Imersão IA é um programa online e gratuito com o objetivo de ensinar a criar prompts, automatizar tarefas e desenvolver sistemas de agentes autônomos com o Google Gemini. O curso é dividido em cinco aulas online. Ao final da Imersão, você recebe um certificado Alura + Google.\n"
          },
          "metadata": {}
        }
      ]
    },
    {
      "cell_type": "code",
      "source": [
        "# Instalar Framework ADK de agentes do Google ################################################\n",
        "!pip install -q google-adk\n"
      ],
      "metadata": {
        "id": "hvZ3UnPI4jhJ",
        "colab": {
          "base_uri": "https://localhost:8080/"
        },
        "outputId": "87b4700b-aa24-497a-cdf8-880c56be79a8"
      },
      "execution_count": 3,
      "outputs": [
        {
          "output_type": "stream",
          "name": "stdout",
          "text": [
            "\u001b[?25l   \u001b[90m━━━━━━━━━━━━━━━━━━━━━━━━━━━━━━━━━━━━━━━━\u001b[0m \u001b[32m0.0/1.2 MB\u001b[0m \u001b[31m?\u001b[0m eta \u001b[36m-:--:--\u001b[0m\r\u001b[2K   \u001b[91m━━━━━━━━━━━━━━━━━━\u001b[0m\u001b[90m╺\u001b[0m\u001b[90m━━━━━━━━━━━━━━━━━━━━━\u001b[0m \u001b[32m0.5/1.2 MB\u001b[0m \u001b[31m16.4 MB/s\u001b[0m eta \u001b[36m0:00:01\u001b[0m\r\u001b[2K   \u001b[91m━━━━━━━━━━━━━━━━━━━━━━━━━━━━━━━━━━━━━━━\u001b[0m\u001b[91m╸\u001b[0m \u001b[32m1.2/1.2 MB\u001b[0m \u001b[31m21.6 MB/s\u001b[0m eta \u001b[36m0:00:01\u001b[0m\r\u001b[2K   \u001b[90m━━━━━━━━━━━━━━━━━━━━━━━━━━━━━━━━━━━━━━━━\u001b[0m \u001b[32m1.2/1.2 MB\u001b[0m \u001b[31m16.2 MB/s\u001b[0m eta \u001b[36m0:00:00\u001b[0m\n",
            "\u001b[2K   \u001b[90m━━━━━━━━━━━━━━━━━━━━━━━━━━━━━━━━━━━━━━━━\u001b[0m \u001b[32m232.1/232.1 kB\u001b[0m \u001b[31m12.0 MB/s\u001b[0m eta \u001b[36m0:00:00\u001b[0m\n",
            "\u001b[2K   \u001b[90m━━━━━━━━━━━━━━━━━━━━━━━━━━━━━━━━━━━━━━━━\u001b[0m \u001b[32m95.2/95.2 kB\u001b[0m \u001b[31m6.8 MB/s\u001b[0m eta \u001b[36m0:00:00\u001b[0m\n",
            "\u001b[2K   \u001b[90m━━━━━━━━━━━━━━━━━━━━━━━━━━━━━━━━━━━━━━━━\u001b[0m \u001b[32m217.1/217.1 kB\u001b[0m \u001b[31m14.9 MB/s\u001b[0m eta \u001b[36m0:00:00\u001b[0m\n",
            "\u001b[2K   \u001b[90m━━━━━━━━━━━━━━━━━━━━━━━━━━━━━━━━━━━━━━━━\u001b[0m \u001b[32m334.1/334.1 kB\u001b[0m \u001b[31m21.1 MB/s\u001b[0m eta \u001b[36m0:00:00\u001b[0m\n",
            "\u001b[2K   \u001b[90m━━━━━━━━━━━━━━━━━━━━━━━━━━━━━━━━━━━━━━━━\u001b[0m \u001b[32m125.1/125.1 kB\u001b[0m \u001b[31m8.4 MB/s\u001b[0m eta \u001b[36m0:00:00\u001b[0m\n",
            "\u001b[2K   \u001b[90m━━━━━━━━━━━━━━━━━━━━━━━━━━━━━━━━━━━━━━━━\u001b[0m \u001b[32m65.8/65.8 kB\u001b[0m \u001b[31m4.2 MB/s\u001b[0m eta \u001b[36m0:00:00\u001b[0m\n",
            "\u001b[2K   \u001b[90m━━━━━━━━━━━━━━━━━━━━━━━━━━━━━━━━━━━━━━━━\u001b[0m \u001b[32m119.0/119.0 kB\u001b[0m \u001b[31m8.8 MB/s\u001b[0m eta \u001b[36m0:00:00\u001b[0m\n",
            "\u001b[2K   \u001b[90m━━━━━━━━━━━━━━━━━━━━━━━━━━━━━━━━━━━━━━━━\u001b[0m \u001b[32m194.9/194.9 kB\u001b[0m \u001b[31m13.7 MB/s\u001b[0m eta \u001b[36m0:00:00\u001b[0m\n",
            "\u001b[2K   \u001b[90m━━━━━━━━━━━━━━━━━━━━━━━━━━━━━━━━━━━━━━━━\u001b[0m \u001b[32m62.5/62.5 kB\u001b[0m \u001b[31m4.0 MB/s\u001b[0m eta \u001b[36m0:00:00\u001b[0m\n",
            "\u001b[2K   \u001b[90m━━━━━━━━━━━━━━━━━━━━━━━━━━━━━━━━━━━━━━━━\u001b[0m \u001b[32m103.3/103.3 kB\u001b[0m \u001b[31m7.6 MB/s\u001b[0m eta \u001b[36m0:00:00\u001b[0m\n",
            "\u001b[2K   \u001b[90m━━━━━━━━━━━━━━━━━━━━━━━━━━━━━━━━━━━━━━━━\u001b[0m \u001b[32m44.4/44.4 kB\u001b[0m \u001b[31m2.3 MB/s\u001b[0m eta \u001b[36m0:00:00\u001b[0m\n",
            "\u001b[2K   \u001b[90m━━━━━━━━━━━━━━━━━━━━━━━━━━━━━━━━━━━━━━━━\u001b[0m \u001b[32m72.0/72.0 kB\u001b[0m \u001b[31m4.3 MB/s\u001b[0m eta \u001b[36m0:00:00\u001b[0m\n",
            "\u001b[?25h"
          ]
        }
      ]
    },
    {
      "cell_type": "code",
      "source": [
        "# Instalar Framework ADK de agentes do Google ################################################\n",
        "!pip install -q google-adk\n",
        "\n",
        "# %%\n",
        "# Remove the incorrect google_maps installation line\n",
        "# !pip install -q @google_maps\n",
        "# %%\n",
        "from google.adk.agents import Agent\n",
        "from google.adk.runners import Runner\n",
        "from google.adk.sessions import InMemorySessionService\n",
        "from google.adk.tools import google_search\n",
        "# Remove the incorrect google_maps import line\n",
        "# from google.adk.tools import google_maps\n",
        "from google.genai import types  # Para criar conteúdos (Content e Part)\n",
        "from datetime import date\n",
        "import textwrap # Para formatar melhor a saída de texto\n",
        "from IPython.display import display, Markdown # Para exibir texto formatado no Colab\n",
        "import requests # Para fazer requisições HTTP\n",
        "import warnings\n",
        "\n",
        "warnings.filterwarnings(\"ignore\")"
      ],
      "metadata": {
        "id": "OxEUCUvt1aWs"
      },
      "execution_count": 11,
      "outputs": []
    },
    {
      "cell_type": "code",
      "source": [
        "# Função auxiliar que envia uma mensagem para um agente via Runner e retorna a resposta final\n",
        "def call_agent(agent: Agent, message_text: str) -> str:\n",
        "    # Cria um serviço de sessão em memória\n",
        "    session_service = InMemorySessionService()\n",
        "    # Cria uma nova sessão (você pode personalizar os IDs conforme necessário)\n",
        "    session = session_service.create_session(app_name=agent.name, user_id=\"user1\", session_id=\"session1\")\n",
        "    # Cria um Runner para o agente\n",
        "    runner = Runner(agent=agent, app_name=agent.name, session_service=session_service)\n",
        "    # Cria o conteúdo da mensagem de entrada\n",
        "    content = types.Content(role=\"user\", parts=[types.Part(text=message_text)])\n",
        "\n",
        "    final_response = \"\"\n",
        "    # Itera assincronamente pelos eventos retornados durante a execução do agente\n",
        "    for event in runner.run(user_id=\"user1\", session_id=\"session1\", new_message=content):\n",
        "        if event.is_final_response():\n",
        "          for part in event.content.parts:\n",
        "            if part.text is not None:\n",
        "              final_response += part.text\n",
        "              final_response += \"\\n\"\n",
        "    return final_response"
      ],
      "metadata": {
        "id": "_xP4lWhsS5ko"
      },
      "execution_count": null,
      "outputs": []
    },
    {
      "cell_type": "code",
      "source": [
        "# Função auxiliar para exibir texto formatado em Markdown no Colab\n",
        "def to_markdown(text):\n",
        "  text = text.replace('•', '  *')\n",
        "  return Markdown(textwrap.indent(text, '> ', predicate=lambda _: True))"
      ],
      "metadata": {
        "id": "8dosiodaxfFR"
      },
      "execution_count": null,
      "outputs": []
    },
    {
      "cell_type": "code",
      "source": [
        "##########################################\n",
        "# --- Agente 1: Buscador de Vacinas de acordo com a idade --- #\n",
        "##########################################\n",
        "\n",
        "def agente_buscador(idade, data_de_hoje):\n",
        "    buscador = Agent(\n",
        "        name=\"agente_buscador\",\n",
        "        model=\"gemini-2.0-flash\",\n",
        "        description=\"Agente que busca as vacinas disponíveis na rede pública de acordo com a idade\",\n",
        "        tools=[google_search],\n",
        "\n",
        "     # Inserir as instruções do Agente Buscador #################################################\n",
        "        instruction=\"\"\"Você é um assistente de pesquisa que vai usar o google (google_search) para recuperar todas as vacinas\n",
        "         oferecidas pela rede pública na cidade de São Paulo na data de hoje, conforme cinco categorias. São elas:\n",
        "         CRIANÇAS  - de 0 a 10 anos,\n",
        "         ADOLESCENTES  - de 11 a 19 anos\n",
        "         ADULTOS  - de 20 a 59 anos\n",
        "         IDOSOS  - acima de 60 anos\n",
        "         GESTANTES.\n",
        "        Cada usuário vai apresentar uma idade e vai dizer se é GESTANTE ou não e você vai fornecer as vacinas que correspondem\n",
        "        à idade apresentada e ao estda (GESTANTE ou não). Assegure-se também de escolher fontes confiáveis.\n",
        "         Esses dados relevantes devem corresponder ao último mês, no máximo.\n",
        "        \"\"\",\n",
        "    )\n",
        "\n",
        "    entrada_do_agente_buscador = f\"Idade: {idade}\\nData de hoje: {data_de_hoje}\"\n",
        "    # Executa o agente\n",
        "    vacinas_buscadas = call_agent(buscador, entrada_do_agente_buscador)\n",
        "    return vacinas_buscadas"
      ],
      "metadata": {
        "id": "o8bqIfi_DyH8"
      },
      "execution_count": 12,
      "outputs": []
    },
    {
      "cell_type": "code",
      "source": [
        "################################################\n",
        "# --- Agente 2: Localizador de vacinas --- #\n",
        "################################################\n",
        "def agente_localizador(CEP, vacinas_buscadas):\n",
        "    planejador = Agent(\n",
        "        name=\"agente_localizador\",\n",
        "        model=\"gemini-2.0-flash\",\n",
        "        # Inserir as instruções do Agente Planejador #################################################\n",
        "        instruction=\"\"\"Você é um assistente que localiza os pontos de vacinação da rede publica, de acordo com o código\n",
        "        de endereçamento postal (CEP) apresentado pelo usuário, apresentando como resposta os locais próximos, dentro de um alcance de dois quilômetros,\n",
        "        se possível, o endereço destes postos e a distãncia aproximada da localização oferecida pelo usuario. Para isso tudo, você vai  usar o google (google_search)     laneja muito bem o conteúdo para redes sociais. Com base na lista de\n",
        "        lançamentos mais recentes e relevantes buscados, use o google (google_search) ou o @googlemaps, trazendo a localização preciso dos postos.\"\"\",\n",
        "        description=\"Agente que planeja posts\",\n",
        "        tools=[google_search],\n",
        "    )\n",
        "\n",
        "    entrada_do_agente_localizador = f\"Idade:{idade}\\nVacinas buscadas: {vacinas_buscadas}\"\n",
        "    # Executa o agente\n",
        "    localizacao_das_vacinas = call_agent(localizador, entrada_do_agente_localizador)\n",
        "    return localizacao_das_vacinas\n",
        ""
      ],
      "metadata": {
        "id": "y3VO1uo5_ghO"
      },
      "execution_count": 13,
      "outputs": []
    },
    {
      "cell_type": "code",
      "source": [
        "# Função auxiliar que envia uma mensagem para um agente via Runner e retorna a resposta final\n",
        "from google.adk.agents import Agent\n",
        "from google.adk.runners import Runner\n",
        "from google.adk.sessions import InMemorySessionService\n",
        "from google.adk.tools import google_search\n",
        "from google.genai import types  # Para criar conteúdos (Content e Part)\n",
        "from datetime import date\n",
        "import textwrap # Para formatar melhor a saída de texto\n",
        "from IPython.display import display, Markdown # Para exibir texto formatado no Colab\n",
        "import requests # Para fazer requisições HTTP\n",
        "import warnings\n",
        "\n",
        "warnings.filterwarnings(\"ignore\")\n",
        "\n",
        "\n",
        "def call_agent(agent: Agent, message_text: str) -> str:\n",
        "    # Cria um serviço de sessão em memória\n",
        "    session_service = InMemorySessionService()\n",
        "    # Cria uma nova sessão (você pode personalizar os IDs conforme necessário)\n",
        "    session = session_service.create_session(app_name=agent.name, user_id=\"user1\", session_id=\"session1\")\n",
        "    # Cria um Runner para o agente\n",
        "    runner = Runner(agent=agent, app_name=agent.name, session_service=session_service)\n",
        "    # Cria o conteúdo da mensagem de entrada\n",
        "    content = types.Content(role=\"user\", parts=[types.Part(text=message_text)])\n",
        "\n",
        "    final_response = \"\"\n",
        "    # Itera assincronamente pelos eventos retornados durante a execução do agente\n",
        "    for event in runner.run(user_id=\"user1\", session_id=\"session1\", new_message=content):\n",
        "        if event.is_final_response():\n",
        "          for part in event.content.parts:\n",
        "            if part.text is not None:\n",
        "              final_response += part.text\n",
        "              final_response += \"\\n\"\n",
        "    return final_response\n",
        "\n",
        "# Função auxiliar para exibir texto formatado em Markdown no Colab\n",
        "def to_markdown(text):\n",
        "  text = text.replace('•', '  *')\n",
        "  return Markdown(textwrap.indent(text, '> ', predicate=lambda _: True))\n",
        "\n",
        "##########################################\n",
        "# --- Agente 1: Buscador de Vacinas de acordo com a idade --- #\n",
        "##########################################\n",
        "\n",
        "def agente_buscador(gestante, idade, data_de_hoje):\n",
        "    buscador = Agent(\n",
        "        name=\"agente_buscador\",\n",
        "        model=\"gemini-2.0-flash\",\n",
        "        description=\"Agente que busca as vacinas disponíveis na rede pública de acordo com a idade\",\n",
        "        tools=[google_search],\n",
        "\n",
        "     # Inserir as instruções do Agente Buscador #################################################\n",
        "        instruction=\"\"\"Você é um assistente de pesquisa que vai usar o google (google_search) para recuperar todas as vacinas\n",
        "         oferecidas pela rede pública na cidade de São Paulo na data de hoje, conforme cinco categorias. São elas:\n",
        "         1 - CRIANÇAS  - de 0 a 10 anos,\n",
        "         2 - ADOLESCENTES  - de 11 a 19 anos\n",
        "         3 - ADULTOS  - de 20 a 59 anos\n",
        "         4 - IDOSOS  - acima de 60 anos\n",
        "         5 - GESTANTES.\n",
        "        Cada usuário vai apresentar uma idade e vai dizer se é GESTANTE ou não.Você vai pesquisar e fornecer as vacinas que correspondem\n",
        "        à idade apresentada. Mas, se o usuário indicar que é gestante, você deve restringir a busca a essa categoria, independentemente da idade.\n",
        "         Assegure-se também de escolher fontes confiáveis.\n",
        "         Esses dados relevantes devem corresponder ao último mês, no máximo.\n",
        "        \"\"\",\n",
        "    )\n",
        "\n",
        "    entrada_do_agente_buscador = f\"Gestante: `{gestante}`\\nIdade: {idade}\\nData de hoje: {data_de_hoje}\"\n",
        "    # Executa o agente\n",
        "    # Corrected the typo here\n",
        "    vacinas_buscadas = call_agent(buscador, entrada_do_agente_buscador)\n",
        "    return vacinas_buscadas\n",
        "\n",
        "################################################\n",
        "# --- Agente 2: Localizador de vacinas --- #\n",
        "################################################\n",
        "def agente_localizador(CEP, vacinas_buscadas):\n",
        "    localizador = Agent(\n",
        "        name=\"agente_localizador\",\n",
        "        model=\"gemini-2.0-flash\",\n",
        "        instruction=\"\"\"Você é um assistente que localiza os pontos de vacinação da rede publica, de acordo com o código\n",
        "        de endereçamento postal (CEP) apresentado pelo usuário, apresentando como resposta os locais próximos, dentro de um alcance de cinco quilômetros,\n",
        "        se possível, o endereço destes postos e a distância aproximada da localização oferecida pelo usuario. Procure as localizações de Unidades Básicas de Saúde (UBS),\n",
        "        Assistências Máedicas Ambulatoriais(AMAs) e AMAs/UBSs integradas.Para isso tudo, você vai  usar o google (google_search) e/ou o @googlemaps Com base na lista de\n",
        "        lançamentos mais recentes e relevantes buscados, use o google (google_search) ou o @googlemaps, trazendo a localização precisa dos\n",
        "        postos para apresentar endereço completo com telefone dos postos.\"\"\",\n",
        "        description=\"Agente que planeja posts\",\n",
        "        tools=[google_search],\n",
        "    )\n",
        "\n",
        "    entrada_do_agente_localizador = f\"CEP:{CEP}\\nVacinas buscadas: {vacinas_buscadas}\"\n",
        "    # Executa o agente\n",
        "    localizacao_das_vacinas = call_agent(localizador, entrada_do_agente_localizador)\n",
        "    return localizacao_das_vacinas\n",
        "\n",
        "data_de_hoje = date.today().strftime(\"%d/%m/%Y\")\n",
        "\n",
        "print(\" Iniciando o Sistema de busca e localização de Vacinas e Postos de Vacinação \")\n",
        "print(\"################################################################################\")\n",
        "print(\"################################################################################\")\n",
        "\n",
        "print(\"\"\" Este é o seu Agente de Informações atualizadas sobre VACINAS na Cidade de São Paulo, SP.\n",
        "Você já se sentiu perdido ou perdida para saber se uma ou outra vacina é obrigatória ou\n",
        "se ela está disponível na rede pública (SUS)?\n",
        "Este Agente vai resolver esse problema para você!\n",
        "Basta informar o que ele pede para que ele indique quais vacinas estão disponíveis\n",
        "para você e onde você pode tomá-las!!! \"\"\")\n",
        "\n",
        "# --- Obter a Idade do Usuário ---\n",
        "gestante = input(\"❓ Você é gestante? Responda com S para SIM ou N para NÃO: \")\n",
        "idade = input(\"❓ Por favor, digite a sua IDADE: \")\n",
        "\n",
        "\n",
        "vacinas_buscadas  = agente_buscador(gestante, idade, data_de_hoje)\n",
        "print(\" RESULTADOS DO AGENTE BUSCADOR\")\n",
        "display(to_markdown(vacinas_buscadas))\n",
        "print(\"#######################################################\")\n",
        "\n",
        "  # --- Obter o CEP do Usuário ---\n",
        "CEP = input(\"❓ Por favor, digite o CEP para buscar os postos de vacinação: \")\n",
        "\n",
        "localizacao_das_vacinas = agente_localizador(CEP, vacinas_buscadas)\n",
        "print(\" RESULTADOS DO AGENTE LOCALIZADOR\")\n",
        "display(to_markdown(localizacao_das_vacinas))\n",
        "print(\"#######################################################\")\n"
      ],
      "metadata": {
        "colab": {
          "base_uri": "https://localhost:8080/",
          "height": 896
        },
        "id": "l7077xVH18RC",
        "outputId": "a4a5d804-1d7c-42a2-affa-4bd72cc3fada"
      },
      "execution_count": 44,
      "outputs": [
        {
          "output_type": "stream",
          "name": "stdout",
          "text": [
            " Iniciando o Sistema de busca e localização de Vacinas e Postos de Vacinação \n",
            "################################################################################\n",
            "################################################################################\n",
            " Este é o seu Agente de Informações atualizadas sobre VACINAS na Cidade de São Paulo, SP.\n",
            "Você já se sentiu perdido ou perdida para saber se uma ou outra vacina é obrigatória ou\n",
            "se ela está disponível na rede pública (SUS)?\n",
            "Este Agente vai resolver esse problema para você!\n",
            "Basta informar o que ele pede para que ele indique quais vacinas estão disponíveis\n",
            "para você e onde você pode tomá-las!!! \n",
            "❓ Você é gestante? Responda com S para SIM ou N para NÃO: N\n",
            "❓ Por favor, digite a sua IDADE: 40\n",
            " RESULTADOS DO AGENTE BUSCADOR\n"
          ]
        },
        {
          "output_type": "display_data",
          "data": {
            "text/plain": [
              "<IPython.core.display.Markdown object>"
            ],
            "text/markdown": "> Para te ajudar a encontrar as vacinas disponíveis na rede pública de São Paulo, preciso confirmar algumas informações e realizar uma busca detalhada. Como você tem 40 anos e não está grávida, vou procurar as vacinas recomendadas para adultos (20 a 59 anos) na rede pública de São Paulo.\n> \n> \n> Para você, com 40 anos e não gestante, as vacinas recomendadas na rede pública de São Paulo são:\n> \n> *   **Hepatite B:** Esquema de 3 doses (caso não tenha completado).\n> *   **Febre Amarela:** Dose única (se nunca tiver tomado).\n> *   **Difteria e Tétano (dT):** Esquema de 3 doses, com reforço a cada 10 anos.\n> *   **Sarampo, Caxumba e Rubéola (SCR):** Uma dose (verificar histórico vacinal, principalmente se nasceu após 1960).\n> *   **dTpa (Difteria, Tétano e Coqueluche):** Uma dose, com reforço a cada 10 anos ou a cada 5 anos em caso de ferimentos graves.\n> \n> Além dessas, a vacina contra a gripe (Influenza) é recomendada anualmente, especialmente durante as campanhas de vacinação.\n> \n> Para se vacinar, basta comparecer a uma das 470 Unidades Básicas de Saúde (UBSs) de São Paulo com seu cartão de vacinação. A ausência do cartão não impede a vacinação. Para mais informações e para encontrar a UBS mais próxima, você pode acessar o site Busca Saúde da Prefeitura de São Paulo.\n"
          },
          "metadata": {}
        },
        {
          "output_type": "stream",
          "name": "stdout",
          "text": [
            "#######################################################\n",
            "❓ Por favor, digite o CEP para buscar os postos de vacinação: 03318000\n",
            " RESULTADOS DO AGENTE LOCALIZADOR\n"
          ]
        },
        {
          "output_type": "display_data",
          "data": {
            "text/plain": [
              "<IPython.core.display.Markdown object>"
            ],
            "text/markdown": "> Para te ajudar a encontrar os postos de vacinação mais próximos que oferecem as vacinas recomendadas para você, farei uma busca por Unidades Básicas de Saúde (UBS), Assistências Médicas Ambulatoriais (AMAs) e AMAs/UBSs integradas na região do CEP 03318-000, dentro de um raio de 5 km. Fornecerei os endereços e, se possível, a distância aproximada de cada local em relação ao CEP informado, juntamente com os telefones de contato.\n> \n> \n> Com base nas informações encontradas, listei algumas opções de postos de vacinação próximos ao CEP 03318-000. É importante verificar os horários de funcionamento e a disponibilidade das vacinas entrando em contato com as unidades antes de se dirigir ao local.\n> \n> *   **AMA/UBS Integrada Prof. Dr. Humberto Cerruti:** Localizada na Avenida Olavo Egídio de Souza Aranha, 704, Vila Cisper, CEP 03822-000. O telefone para contato é (11) 2943-9991 / (11) 2541-4685. A AMA funciona de segunda a sábado, das 7h às 19h, e a UBS de segunda a sexta, das 7h às 19h.\n> *   **UBS Engenheiro Goulart - Dr. José Pires:** Situada na Rua Augusto Correia Leite, 538, Engenheiro Goulart, CEP 03726-100. Os telefones são 2621-7402 / 2621-7042.\n> *   **UBS Jardim São Francisco I:** Endereço na Rua Juriti Piranga, 195, Cangaíba, CEP 03718-020. Contato pelos telefones 2957-2808 / 2681-0250.\n> *   **AMA/UBS Cangaíba - Dr. Carlos Gentile de Mello:** Avenida Cangaíba, 3722, Cangaíba, CEP 03711-001. Telefone: 2621-6523.\n> \n> Para confirmar a disponibilidade das vacinas e horários de funcionamento atualizados, recomendo entrar em contato com a central 156 da Prefeitura de São Paulo ou acessar o site Busca Saúde da Prefeitura de São Paulo.\n"
          },
          "metadata": {}
        },
        {
          "output_type": "stream",
          "name": "stdout",
          "text": [
            "#######################################################\n"
          ]
        }
      ]
    },
    {
      "cell_type": "code",
      "source": [],
      "metadata": {
        "id": "yzC8DkQijI61"
      },
      "execution_count": null,
      "outputs": []
    }
  ]
}